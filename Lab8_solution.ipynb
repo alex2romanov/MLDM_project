{
 "cells": [
  {
   "cell_type": "code",
   "execution_count": 1,
   "metadata": {},
   "outputs": [],
   "source": [
    "from torchtext import data, datasets\n",
    "import torch\n",
    "import torch.nn as nn\n",
    "import torch.nn.functional as F\n",
    "\n",
    "import matplotlib.pyplot as plt\n",
    "%matplotlib inline\n",
    "\n",
    "import collections\n",
    "import random\n",
    "from res.helper import FixBatchGenerator"
   ]
  },
  {
   "cell_type": "markdown",
   "metadata": {},
   "source": [
    "# INF554 - Machine and Deep Learning\n",
    "## Lab 8 - Working with Text, Regularization and Recurrent Neural Networks\n",
    "\n",
    "In this lab we will be making some *sentiment analysis* with textual data from the IMDB dataset. In its simplest form, the *sentiment analysis* task consists in predicting the polarity of a text as positive or negative.\n",
    "\n",
    "First of all, let's take a look at the steps of text processing:\n",
    "\n",
    "1. Tokenization: break sentence into individual words\n",
    "    - Before: `\"PyTorch seems really easy to use!\"`\n",
    "    - After: `[\"PyTorch\", \"seems\", \"really\", \"easy\", \"to\", \"use\", \"!\"]`\n",
    "2. Building vocabulary: build an index of words associated with unique numbers\n",
    "    - Before: `[\"PyTorch\", \"seems\", \"really\", \"easy\", \"to\", \"use\", \"!\"]`\n",
    "    - After: `{\"Pytorch: 0, \"seems\": 1, \"really\": 2, ...}`\n",
    "3. Convert to numerals: map words to unique numbers (indices)\n",
    "    - Before: `{\"Pytorch: 0, \"seems\": 1, \"really\": 2, ...}`\n",
    "    - After: `[0, 1, 2, ...]`\n",
    "4. Embedding look-up: map sentences (indices now) to fixed matrices\n",
    "    - ```[[0.1, 0.4, 0.3],\n",
    "       [0.8, 0.1, 0.5],\n",
    "       ...]```\n",
    "       \n",
    "Let's start by creating two fields, **text** which defines how the reviews should be processed, and **label** to store the information about the label of the review (ignore the warnings for now)."
   ]
  },
  {
   "cell_type": "code",
   "execution_count": 2,
   "metadata": {},
   "outputs": [
    {
     "name": "stderr",
     "output_type": "stream",
     "text": [
      "/usr/local/lib/python3.8/site-packages/torchtext/data/field.py:150: UserWarning: Field class will be retired soon and moved to torchtext.legacy. Please see the most recent release notes for further information.\n",
      "  warnings.warn('{} class will be retired soon and moved to torchtext.legacy. Please see the most recent release notes for further information.'.format(self.__class__.__name__), UserWarning)\n",
      "/usr/local/lib/python3.8/site-packages/torchtext/data/field.py:150: UserWarning: LabelField class will be retired soon and moved to torchtext.legacy. Please see the most recent release notes for further information.\n",
      "  warnings.warn('{} class will be retired soon and moved to torchtext.legacy. Please see the most recent release notes for further information.'.format(self.__class__.__name__), UserWarning)\n"
     ]
    }
   ],
   "source": [
    "# The important field here is fix_length: all examples using this field will be padded to, or None for flexible sequence lengths\n",
    "# We are setting it at 80 (words) which will represent the maximum size of a sentence in the following\n",
    "# note that fix_length could also be set at None which means that the size will be flexible (this can be useful for RNNs)\n",
    "max_len = 80\n",
    "text = data.Field(sequential=True, fix_length=max_len, batch_first=True, lower=True, dtype=torch.long)\n",
    "label = data.LabelField(sequential=False, dtype=torch.float)\n"
   ]
  },
  {
   "cell_type": "markdown",
   "metadata": {},
   "source": [
    "Now let's download the IMDB dataset (~85MB) and create the train, test and validation sets:"
   ]
  },
  {
   "cell_type": "code",
   "execution_count": 3,
   "metadata": {
    "scrolled": true
   },
   "outputs": [
    {
     "name": "stderr",
     "output_type": "stream",
     "text": [
      "/usr/local/lib/python3.8/site-packages/torchtext/data/example.py:78: UserWarning: Example class will be retired soon and moved to torchtext.legacy. Please see the most recent release notes for further information.\n",
      "  warnings.warn('Example class will be retired soon and moved to torchtext.legacy. Please see the most recent release notes for further information.', UserWarning)\n"
     ]
    },
    {
     "name": "stdout",
     "output_type": "stream",
     "text": [
      "train :  25000\n",
      "test :  25000\n",
      "train.fields : {'text': <torchtext.data.field.Field object at 0x106be7f70>, 'label': <torchtext.data.field.LabelField object at 0x106be7f40>}\n",
      "valid :  7500\n"
     ]
    }
   ],
   "source": [
    "#datasets.IMDB.download('./')\n",
    "ds_train, ds_test = datasets.IMDB.splits(text, label, path='./imdb/aclImdb/')\n",
    "\n",
    "print('train : ', len(ds_train))\n",
    "print('test : ', len(ds_test))\n",
    "print('train.fields :', ds_train.fields)\n",
    "\n",
    "#make validation set\n",
    "seed_num = 1337\n",
    "ds_train, ds_valid = ds_train.split(random_state=random.seed(seed_num))\n",
    "print('valid : ', len(ds_valid))"
   ]
  },
  {
   "cell_type": "markdown",
   "metadata": {},
   "source": [
    "Now we build the *vocabulary* (step 2 above), mapping every word into a numerical id. We consider only text in the training set for this step."
   ]
  },
  {
   "cell_type": "code",
   "execution_count": 4,
   "metadata": {
    "scrolled": true
   },
   "outputs": [
    {
     "name": "stdout",
     "output_type": "stream",
     "text": [
      "Vocabulary size: 1002\n",
      "Label size: 2\n",
      "[('the', 225411), ('a', 111661), ('and', 110736), ('of', 101281), ('to', 93618), ('is', 73247), ('in', 63011), ('i', 49141), ('this', 49010), ('that', 46426)]\n",
      "[('neg', 8835), ('pos', 8665)]\n"
     ]
    }
   ],
   "source": [
    "# Build vocabulary\n",
    "# num_words = 25000 #usually we would use a bigger size but we are reducing to make results worse and get the results faster\n",
    "num_words = 1000\n",
    "text.build_vocab(ds_train, max_size=num_words)\n",
    "label.build_vocab(ds_train)\n",
    "\n",
    "# Print vocab size\n",
    "print('Vocabulary size: {}'.format(len(text.vocab)))\n",
    "print('Label size: {}'.format(len(label.vocab)))\n",
    "\n",
    "# Print most common vocabulary text\n",
    "most_common_samples = 10\n",
    "print(text.vocab.freqs.most_common(most_common_samples))\n",
    "\n",
    "# Print most common labels\n",
    "print(label.vocab.freqs.most_common())"
   ]
  },
  {
   "cell_type": "markdown",
   "metadata": {},
   "source": [
    "Let's inspect the content of a review:"
   ]
  },
  {
   "cell_type": "code",
   "execution_count": 5,
   "metadata": {},
   "outputs": [
    {
     "name": "stdout",
     "output_type": "stream",
     "text": [
      "just about everything in this movie is wrong, wrong, wrong. take mike myers, for example. he's reached the point where you realize that his shtick hasn't changed since his snl days, over ten years ago. he's doing the same cutesy stream-of-consciousness jokes and the same voices. his cat is painfully unfunny. he tries way to hard. he's some weird type a comedian, not the cool cat he's supposed to be. the rest of the movie is just as bad. the sets are unbelievably ugly --- and clearly a waste of millions of dollars. (cardboard cut-outs for the background buildings would have made more sense than constructing an entire neighborhood and main street.) alec balwin tries to do a funny great santini impression, but he ends up looking and sounding incoherent. there's even an innapropriate cheesecake moment with faux celebrity paris hilton --- that sticks in the mind simply because this is supposed to be a dr. seuss story. avoid this movie at all costs, folks. it's not even an interesting train wreck. (i hope they'll make horton hears a who with robin williams. then we'll have the bad-seuss movie-starring-spasitc- comedian trilogy.)\n",
      "label:  neg\n"
     ]
    }
   ],
   "source": [
    "def show_text(sample):\n",
    "    print(' '.join(word for word in sample))\n",
    "    \n",
    "show_text(ds_train[0].text)\n",
    "print('label: ', ds_train[0].label)"
   ]
  },
  {
   "cell_type": "markdown",
   "metadata": {},
   "source": [
    "Now, we create and load the batches for training:"
   ]
  },
  {
   "cell_type": "code",
   "execution_count": 6,
   "metadata": {},
   "outputs": [
    {
     "name": "stderr",
     "output_type": "stream",
     "text": [
      "/usr/local/lib/python3.8/site-packages/torchtext/data/iterator.py:48: UserWarning: BucketIterator class will be retired soon and moved to torchtext.legacy. Please see the most recent release notes for further information.\n",
      "  warnings.warn('{} class will be retired soon and moved to torchtext.legacy. Please see the most recent release notes for further information.'.format(self.__class__.__name__), UserWarning)\n"
     ]
    }
   ],
   "source": [
    "batch_size = 64\n",
    "train_loader, valid_loader, test_loader = data.BucketIterator.splits(\n",
    "    (ds_train, ds_valid, ds_test), batch_size=batch_size, sort_key=lambda x: len(x.text), repeat=False\n",
    ")\n",
    "\n",
    "train_loader, valid_loader, test_loader = FixBatchGenerator(train_loader, 'text', 'label'), FixBatchGenerator(valid_loader, 'text', 'label'), FixBatchGenerator(test_loader, 'text', 'label')"
   ]
  },
  {
   "cell_type": "markdown",
   "metadata": {},
   "source": [
    "We introduce now a fully connected NN for text classification"
   ]
  },
  {
   "cell_type": "code",
   "execution_count": 62,
   "metadata": {},
   "outputs": [],
   "source": [
    "class FeedforwardNeuralNetModel(nn.Module):\n",
    "    def __init__(self, input_dim, embedding_dim, hidden_dim, output_dim):\n",
    "        super(FeedforwardNeuralNetModel, self).__init__()\n",
    "        # Embedding layer\n",
    "        self.embedding = nn.Embedding(input_dim, embedding_dim)\n",
    "        \n",
    "        # Linear function\n",
    "        self.fc1 = nn.Linear(80*embedding_dim, hidden_dim) \n",
    "        \n",
    "        # Linear function (readout)\n",
    "        self.fc2 = nn.Linear(hidden_dim, output_dim)\n",
    "        \n",
    "    def forward(self, x):\n",
    "        # Embedding\n",
    "        embedded = self.embedding(x)\n",
    "        #embedded size is [batch size, embedding_dim, embedding_dim]\n",
    "        embedded = embedded.view(-1, 80*embedding_dim)\n",
    "\n",
    "        # Linear function\n",
    "        out = self.fc1(embedded)\n",
    "\n",
    "        # Non-linearity\n",
    "        out = torch.relu(out)\n",
    "\n",
    "        # Take note here use a final sigmoid function so your loss should not go through sigmoid again as we are using BCE loss.\n",
    "        out = self.fc2(out)\n",
    "        out = torch.sigmoid(out)\n",
    "    \n",
    "        return out"
   ]
  },
  {
   "cell_type": "markdown",
   "metadata": {},
   "source": [
    "The following block sets up the network with <a href=\"https://pytorch.org/docs/stable/generated/torch.nn.BCELoss.html\">Binary Cross Entropy</a> loss and <a href=\"https://pytorch.org/docs/stable/generated/torch.optim.RMSprop.html\">RMSprop</a> optimizer.\n",
    "\n",
    "RMSprop is an optimization technique that uses a moving average of squared gradients to normalize the gradient. This normalization balances the step size (momentum), decreasing the step for large gradients to avoid exploding and increasing the step for small gradients to avoid vanishing. This means that the learning rate changes over time (*adaptive learning rate*)."
   ]
  },
  {
   "cell_type": "code",
   "execution_count": 63,
   "metadata": {},
   "outputs": [],
   "source": [
    "input_dim = num_words + 2 #add 2 for start and end sentence symbols\n",
    "embedding_dim = 100\n",
    "hidden_dim = 32\n",
    "output_dim = 1\n",
    "\n",
    "# Instantiate model class and assign to object\n",
    "model = FeedforwardNeuralNetModel(input_dim, embedding_dim, hidden_dim, output_dim)\n",
    "\n",
    "# Push model to CUDA device if available\n",
    "device = torch.device(\"cuda:0\" if torch.cuda.is_available() else \"cpu\")\n",
    "model.to(device)\n",
    "\n",
    "# Loss function\n",
    "criterion = nn.BCELoss()\n",
    "\n",
    "# Optimizer\n",
    "optimizer = torch.optim.RMSprop(model.parameters(), lr=1e-3)"
   ]
  },
  {
   "cell_type": "code",
   "execution_count": 64,
   "metadata": {},
   "outputs": [
    {
     "name": "stdout",
     "output_type": "stream",
     "text": [
      "Number of groups of parameters 5\n",
      "--------------------------------------------------\n",
      "torch.Size([1002, 200])\n",
      "torch.Size([32, 16000])\n",
      "torch.Size([32])\n",
      "torch.Size([1, 32])\n",
      "torch.Size([1])\n",
      "--------------------------------------------------\n"
     ]
    }
   ],
   "source": [
    "# Number of groups of parameters\n",
    "print('Number of groups of parameters {}'.format(len(list(model.parameters()))))\n",
    "print('-'*50)\n",
    "# Print parameters\n",
    "for i in range(len(list(model.parameters()))):\n",
    "    print(list(model.parameters())[i].size())\n",
    "print('-'*50)"
   ]
  },
  {
   "cell_type": "markdown",
   "metadata": {},
   "source": [
    "The following function carries out the training"
   ]
  },
  {
   "cell_type": "code",
   "execution_count": 65,
   "metadata": {},
   "outputs": [],
   "source": [
    "def train_model(model, optizmizer, loss_criterion):\n",
    "    iter = 0\n",
    "    num_epochs = 10\n",
    "    history_train_acc, history_val_acc, history_train_loss, history_val_loss = [], [], [], []\n",
    "    best_accuracy = 0\n",
    "    for epoch in range(num_epochs):\n",
    "        for i, (samples, labels) in enumerate(train_loader):\n",
    "            # Training mode\n",
    "            model.train()\n",
    "\n",
    "            # Load samples\n",
    "            samples = samples.view(-1, max_len).to(device)\n",
    "            labels = labels.view(-1, 1).to(device)\n",
    "\n",
    "            # Clear gradients w.r.t. parameters\n",
    "            optimizer.zero_grad()\n",
    "\n",
    "            # Forward pass to get output/logits\n",
    "            outputs = model(samples)\n",
    "\n",
    "            # Calculate Loss: softmax --> cross entropy loss\n",
    "            loss = loss_criterion(outputs, labels)\n",
    "\n",
    "            # Getting gradients w.r.t. parameters\n",
    "            loss.backward()\n",
    "\n",
    "            # Updating parameters\n",
    "            optimizer.step()\n",
    "\n",
    "            iter += 1\n",
    "\n",
    "            if iter % 100 == 0:\n",
    "                # Get training statistics\n",
    "                train_loss = loss.data.item()\n",
    "\n",
    "                # Testing mode\n",
    "                model.eval()\n",
    "                # Calculate Accuracy         \n",
    "                correct = 0\n",
    "                total = 0\n",
    "                # Iterate through test dataset\n",
    "                for samples, labels in valid_loader:\n",
    "                    # Load samples\n",
    "                    samples = samples.view(-1, max_len).to(device)\n",
    "                    labels = labels.view(-1).to(device)\n",
    "\n",
    "                    # Forward pass only to get logits/output\n",
    "                    outputs = model(samples)\n",
    "\n",
    "                    # Val loss\n",
    "                    val_loss = criterion(outputs.view(-1, 1), labels.view(-1, 1))\n",
    "\n",
    "                    predicted = outputs.ge(0.5).view(-1)\n",
    "\n",
    "                    # Total number of labels\n",
    "                    total += labels.size(0)\n",
    "\n",
    "                    # Total correct predictions\n",
    "                    correct += (predicted.type(torch.FloatTensor).cpu() == labels.type(torch.FloatTensor)).sum().item()\n",
    "                    # correct = (predicted == labels.byte()).int().sum().item()\n",
    "\n",
    "                accuracy = 100. * correct / total\n",
    "\n",
    "                # Print Loss\n",
    "                print('Iter: {} | Train Loss: {} | Val Loss: {} | Val Accuracy: {}'.format(iter, train_loss, val_loss.item(), round(accuracy, 2)))\n",
    "\n",
    "                # Append to history\n",
    "                history_val_loss.append(val_loss.data.item())\n",
    "                history_val_acc.append(round(accuracy, 2))\n",
    "                history_train_loss.append(train_loss)\n",
    "\n",
    "                # Save model when accuracy beats best accuracy\n",
    "                if accuracy > best_accuracy:\n",
    "                    best_accuracy = accuracy\n",
    "                    # We can load this best model on the validation set later\n",
    "                    torch.save(model.state_dict(), 'best_model.pth')\n",
    "    return (history_train_acc, history_val_acc, history_train_loss, history_val_loss)\n",
    "\n"
   ]
  },
  {
   "cell_type": "markdown",
   "metadata": {},
   "source": [
    "This function plots the losses for the testing and validation sets:"
   ]
  },
  {
   "cell_type": "code",
   "execution_count": 66,
   "metadata": {},
   "outputs": [],
   "source": [
    "def plot_losses(history_train_loss, history_val_loss):\n",
    "    # Set plotting style\n",
    "    #plt.style.use(('dark_background', 'bmh'))\n",
    "    plt.style.use('bmh')\n",
    "    plt.rc('axes', facecolor='none')\n",
    "    plt.rc('figure', figsize=(16, 4))\n",
    "\n",
    "    # Plotting loss graph\n",
    "    plt.plot(history_train_loss, label='Train')\n",
    "    plt.plot(history_val_loss, label='Validation')\n",
    "    plt.title('Loss Graph')\n",
    "    plt.legend()\n",
    "    plt.show()"
   ]
  },
  {
   "cell_type": "markdown",
   "metadata": {},
   "source": [
    "Let's observe the behaviour of the model:"
   ]
  },
  {
   "cell_type": "code",
   "execution_count": 67,
   "metadata": {},
   "outputs": [
    {
     "name": "stdout",
     "output_type": "stream",
     "text": [
      "Iter: 100 | Train Loss: 0.7034580111503601 | Val Loss: 0.6933199763298035 | Val Accuracy: 52.09\n",
      "Iter: 200 | Train Loss: 0.6938658952713013 | Val Loss: 0.6856935024261475 | Val Accuracy: 54.41\n",
      "Iter: 300 | Train Loss: 0.6424086093902588 | Val Loss: 0.6913643479347229 | Val Accuracy: 55.03\n",
      "Iter: 400 | Train Loss: 0.6707993149757385 | Val Loss: 0.6445432305335999 | Val Accuracy: 56.96\n",
      "Iter: 500 | Train Loss: 0.6557962894439697 | Val Loss: 0.6282934546470642 | Val Accuracy: 58.29\n",
      "Iter: 600 | Train Loss: 0.5366172194480896 | Val Loss: 0.4204540252685547 | Val Accuracy: 60.88\n",
      "Iter: 700 | Train Loss: 0.65838223695755 | Val Loss: 0.5491631031036377 | Val Accuracy: 60.68\n",
      "Iter: 800 | Train Loss: 0.42394182085990906 | Val Loss: 0.5405511260032654 | Val Accuracy: 62.13\n",
      "Iter: 900 | Train Loss: 0.4437568187713623 | Val Loss: 0.5878576636314392 | Val Accuracy: 63.01\n",
      "Iter: 1000 | Train Loss: 0.396431565284729 | Val Loss: 0.42701220512390137 | Val Accuracy: 63.69\n",
      "Iter: 1100 | Train Loss: 0.30138447880744934 | Val Loss: 0.3853996992111206 | Val Accuracy: 64.11\n",
      "Iter: 1200 | Train Loss: 0.3075968325138092 | Val Loss: 0.48702237010002136 | Val Accuracy: 64.23\n",
      "Iter: 1300 | Train Loss: 0.31892308592796326 | Val Loss: 0.5913047194480896 | Val Accuracy: 63.92\n",
      "Iter: 1400 | Train Loss: 0.1818104237318039 | Val Loss: 0.39596495032310486 | Val Accuracy: 64.47\n",
      "Iter: 1500 | Train Loss: 0.20632056891918182 | Val Loss: 0.5347999334335327 | Val Accuracy: 64.69\n",
      "Iter: 1600 | Train Loss: 0.3459455966949463 | Val Loss: 0.5398871302604675 | Val Accuracy: 64.63\n",
      "Iter: 1700 | Train Loss: 0.09544511139392853 | Val Loss: 0.49074259400367737 | Val Accuracy: 64.52\n",
      "Iter: 1800 | Train Loss: 0.17740744352340698 | Val Loss: 0.569238007068634 | Val Accuracy: 64.71\n",
      "Iter: 1900 | Train Loss: 0.13133174180984497 | Val Loss: 0.557360827922821 | Val Accuracy: 64.31\n",
      "Iter: 2000 | Train Loss: 0.11743977665901184 | Val Loss: 0.7809720635414124 | Val Accuracy: 64.56\n",
      "Iter: 2100 | Train Loss: 0.16351190209388733 | Val Loss: 0.9444478154182434 | Val Accuracy: 64.31\n",
      "Iter: 2200 | Train Loss: 0.07844212651252747 | Val Loss: 0.6718206405639648 | Val Accuracy: 64.43\n",
      "Iter: 2300 | Train Loss: 0.04759586602449417 | Val Loss: 0.742084264755249 | Val Accuracy: 64.69\n",
      "Iter: 2400 | Train Loss: 0.11528337746858597 | Val Loss: 0.6651887893676758 | Val Accuracy: 63.77\n",
      "Iter: 2500 | Train Loss: 0.03923304006457329 | Val Loss: 0.7600753903388977 | Val Accuracy: 64.35\n",
      "Iter: 2600 | Train Loss: 0.07612559199333191 | Val Loss: 1.086567759513855 | Val Accuracy: 64.51\n",
      "Iter: 2700 | Train Loss: 0.10900464653968811 | Val Loss: 0.7569893002510071 | Val Accuracy: 64.25\n"
     ]
    }
   ],
   "source": [
    "(train_acc, val_acc, train_loss, val_loss) = train_model(model, optimizer, criterion)"
   ]
  },
  {
   "cell_type": "code",
   "execution_count": 68,
   "metadata": {},
   "outputs": [
    {
     "data": {
      "image/png": "[encoded data removed]",
      "text/plain": [
       "<Figure size 1152x288 with 1 Axes>"
      ]
     },
     "metadata": {
      "needs_background": "light"
     },
     "output_type": "display_data"
    }
   ],
   "source": [
    "plot_losses(train_loss, val_loss)"
   ]
  },
  {
   "cell_type": "markdown",
   "metadata": {},
   "source": [
    "> **Ques 1**: What can you deduce from this graph? Is the network working as expected?"
   ]
  },
  {
   "cell_type": "markdown",
   "metadata": {},
   "source": [
    "Regularization techniques are required to reduce overfitting (i.e. the predictor fits too closely to the training data and does not generalize well to new data). Overfitting tends to occur when we have little data and a complex hypothesis class.\n",
    "\n",
    "A first idea for regularization is to introduce a *penalty term*, which makes it harder for the optimizer to return an overly flexible predictor.\n",
    "\n",
    "We will start by adding a regularization term to our (point-wise) loss:\n",
    "\n",
    "$$ loss_R = loss + \\frac{\\lambda}{2}\\left\\Vert W\\right\\Vert _{2}^{2}$$\n",
    "\n",
    "The gradient for the regularized loss is therefore:\n",
    "\n",
    "$$\\nabla_W loss_R = \\nabla_W loss + \\lambda W$$\n",
    "\n",
    "With pytorch, adding a regularization term is done on the optimization function by adding the parameter *weight_decay* (corresponding to the above $\\lambda$) to the call to the optimizer.\n",
    "\n",
    "> **Task 1**: set the optimizer *weight_decay* to 0.005 and re-train the model, studying its behaviour"
   ]
  },
  {
   "cell_type": "markdown",
   "metadata": {},
   "source": [
    "You can use the following function to take a look at the parameters of the model before and after regularization:"
   ]
  },
  {
   "cell_type": "code",
   "execution_count": 69,
   "metadata": {},
   "outputs": [
    {
     "data": {
      "image/png": "[encoded data removed]",
      "text/plain": [
       "<Figure size 1152x288 with 1 Axes>"
      ]
     },
     "metadata": {
      "needs_background": "light"
     },
     "output_type": "display_data"
    }
   ],
   "source": [
    "def look_parameters(mdl):\n",
    "    weights = torch.Tensor().to(device)\n",
    "    for param_group in list(mdl.parameters()):\n",
    "        weights = torch.cat((param_group.view(-1), weights))\n",
    "    ws = weights.detach().numpy()\n",
    "    plt.hist(ws.reshape(-1), range=(-.5, .5), bins=501)\n",
    "\n",
    "look_parameters(model)"
   ]
  },
  {
   "cell_type": "code",
   "execution_count": 70,
   "metadata": {},
   "outputs": [
    {
     "name": "stderr",
     "output_type": "stream",
     "text": [
      "/usr/local/lib/python3.8/site-packages/torchtext/data/batch.py:23: UserWarning: Batch class will be retired soon and moved to torchtext.legacy. Please see the most recent release notes for further information.\n",
      "  warnings.warn('{} class will be retired soon and moved to torchtext.legacy. Please see the most recent release notes for further information.'.format(self.__class__.__name__), UserWarning)\n"
     ]
    },
    {
     "name": "stdout",
     "output_type": "stream",
     "text": [
      "Iter: 100 | Train Loss: 0.10787021368741989 | Val Loss: 0.8192270398139954 | Val Accuracy: 64.2\n",
      "Iter: 200 | Train Loss: 0.17665405571460724 | Val Loss: 0.7206869125366211 | Val Accuracy: 64.15\n",
      "Iter: 300 | Train Loss: 0.1350599229335785 | Val Loss: 0.8826000094413757 | Val Accuracy: 64.53\n",
      "Iter: 400 | Train Loss: 0.13046887516975403 | Val Loss: 0.7091047167778015 | Val Accuracy: 64.77\n",
      "Iter: 500 | Train Loss: 0.23305119574069977 | Val Loss: 0.8418693542480469 | Val Accuracy: 64.71\n",
      "Iter: 600 | Train Loss: 0.1307666003704071 | Val Loss: 0.7940548062324524 | Val Accuracy: 64.79\n",
      "Iter: 700 | Train Loss: 0.3997218608856201 | Val Loss: 0.677175760269165 | Val Accuracy: 61.69\n",
      "Iter: 800 | Train Loss: 0.3167663812637329 | Val Loss: 0.61629718542099 | Val Accuracy: 64.63\n",
      "Iter: 900 | Train Loss: 0.1770399808883667 | Val Loss: 0.4461371898651123 | Val Accuracy: 64.28\n",
      "Iter: 1000 | Train Loss: 0.24287395179271698 | Val Loss: 0.3947584927082062 | Val Accuracy: 64.19\n",
      "Iter: 1100 | Train Loss: 0.27428701519966125 | Val Loss: 0.49494698643684387 | Val Accuracy: 62.83\n",
      "Iter: 1200 | Train Loss: 0.3651845455169678 | Val Loss: 0.4683278799057007 | Val Accuracy: 64.72\n",
      "Iter: 1300 | Train Loss: 0.4830268919467926 | Val Loss: 0.5801208019256592 | Val Accuracy: 62.41\n",
      "Iter: 1400 | Train Loss: 0.40191203355789185 | Val Loss: 0.44790589809417725 | Val Accuracy: 65.09\n",
      "Iter: 1500 | Train Loss: 0.345355361700058 | Val Loss: 0.6805310249328613 | Val Accuracy: 65.12\n",
      "Iter: 1600 | Train Loss: 0.3902384340763092 | Val Loss: 0.5511245727539062 | Val Accuracy: 64.27\n",
      "Iter: 1700 | Train Loss: 0.5539509057998657 | Val Loss: 0.5505379438400269 | Val Accuracy: 64.05\n",
      "Iter: 1800 | Train Loss: 0.5309040546417236 | Val Loss: 0.5123224854469299 | Val Accuracy: 63.35\n",
      "Iter: 1900 | Train Loss: 0.5866281986236572 | Val Loss: 0.7193045616149902 | Val Accuracy: 59.45\n",
      "Iter: 2000 | Train Loss: 0.5367690920829773 | Val Loss: 0.4391220510005951 | Val Accuracy: 63.93\n",
      "Iter: 2100 | Train Loss: 0.4854705333709717 | Val Loss: 0.6438719630241394 | Val Accuracy: 59.87\n",
      "Iter: 2200 | Train Loss: 0.42001959681510925 | Val Loss: 0.4707545340061188 | Val Accuracy: 65.07\n",
      "Iter: 2300 | Train Loss: 0.5029977560043335 | Val Loss: 0.432196706533432 | Val Accuracy: 64.08\n",
      "Iter: 2400 | Train Loss: 0.59721839427948 | Val Loss: 0.5897260308265686 | Val Accuracy: 63.4\n",
      "Iter: 2500 | Train Loss: 0.5007640719413757 | Val Loss: 0.7596877217292786 | Val Accuracy: 63.08\n",
      "Iter: 2600 | Train Loss: 0.5767336487770081 | Val Loss: 0.5578017830848694 | Val Accuracy: 62.48\n",
      "Iter: 2700 | Train Loss: 0.6518580317497253 | Val Loss: 0.6129161715507507 | Val Accuracy: 58.63\n"
     ]
    }
   ],
   "source": [
    "#enter here the code for Task 1\n",
    "\n",
    "optimizer = torch.optim.RMSprop(model.parameters(), lr=1e-3, weight_decay=0.005)\n",
    "(train_acc, val_acc, train_loss, val_loss) = train_model(model, optimizer, criterion)"
   ]
  },
  {
   "cell_type": "code",
   "execution_count": 71,
   "metadata": {},
   "outputs": [
    {
     "data": {
      "image/png": "[encoded data removed]",
      "text/plain": [
       "<Figure size 1152x288 with 1 Axes>"
      ]
     },
     "metadata": {
      "needs_background": "light"
     },
     "output_type": "display_data"
    },
    {
     "data": {
      "image/png": "[encoded data removed]",
      "text/plain": [
       "<Figure size 1152x288 with 1 Axes>"
      ]
     },
     "metadata": {
      "needs_background": "light"
     },
     "output_type": "display_data"
    }
   ],
   "source": [
    "plot_losses(train_loss, val_loss)\n",
    "look_parameters(model)"
   ]
  },
  {
   "cell_type": "markdown",
   "metadata": {},
   "source": [
    "## Dropout\n",
    "\n",
    "Another solution for regularization in neural network consists in applying **Dropout**: at each step of training, a new subnetwork is selected. As a result an adaptation appears in the final network only if it exists in a sufficient part of the training data.\n",
    "\n",
    "<img src=\"figures/dropout.png\" alt=\"dropout\" width=\"400\"/><font size=\"1\">Image from (Srivastava et al. ,2014) Dropout: A Simple Way to Prevent Neural Networks from\n",
    "Overfitting, JMLR</font>\n",
    "\n",
    "We need to introduce a probability $p$ of deactivating a neuron in the hidden layers. So, if we have $n$ neurons in layer $l$, we expect to have $n * (1-p)$ active neurons.\n",
    "\n",
    "Therefore the output of a generic layer becomes:\n",
    "\n",
    "$$ z^l = \\alpha(W_l^\\top \\delta z^{l-1} + b_l) $$\n",
    "\n",
    "with $\\delta \\sim Bernoulli(p)$ and $\\alpha(x)$ an activation function.\n",
    "\n",
    "> **Task 2** : add <a href=\"https://pytorch.org/docs/stable/generated/torch.nn.Dropout.html\">dropout</a> to the neural network above, between the two fully connected layers, with p=0.8; re-train the new network and observe the result (note: use the optimizer without weight_decay)."
   ]
  },
  {
   "cell_type": "code",
   "execution_count": null,
   "metadata": {},
   "outputs": [],
   "source": [
    "class FeedforwardNeuralNetModelWithDropout(nn.Module):\n",
    "    def __init__(self, input_dim, embedding_dim, hidden_dim, output_dim):\n",
    "        super(FeedforwardNeuralNetModelWithDropout, self).__init__()\n",
    "        # Embedding layer\n",
    "        self.embedding = nn.Embedding(input_dim, embedding_dim)\n",
    "        \n",
    "        # Linear function\n",
    "        self.fc1 = nn.Linear(80*embedding_dim, hidden_dim) \n",
    "        \n",
    "        #insert here your code\n",
    "        # SOLUTION Task 2: Dropout\n",
    "        self.dropout = nn.Dropout(0.8)\n",
    "        \n",
    "        # Linear function (readout)\n",
    "        self.fc2 = nn.Linear(hidden_dim, output_dim)\n",
    "        \n",
    "    def forward(self, x):\n",
    "        # Embedding\n",
    "        embedded = self.embedding(x)\n",
    "        embedded = embedded.view(-1, 80*embedding_dim)\n",
    "        # Linear function\n",
    "        out = self.fc1(embedded)\n",
    "\n",
    "        # Non-linearity\n",
    "        out = torch.relu(out)\n",
    "        \n",
    "        #insert here your code\n",
    "        # SOLUTION Task 2: Dropout\n",
    "        out = self.dropout(out)\n",
    "\n",
    "        # Take note here use a final sigmoid function so your loss should not go through sigmoid again as we are using BCE loss.\n",
    "        out = self.fc2(out)\n",
    "        out = torch.sigmoid(out)\n",
    "    \n",
    "        return out\n",
    "    \n"
   ]
  },
  {
   "cell_type": "code",
   "execution_count": null,
   "metadata": {},
   "outputs": [],
   "source": [
    "#insert here your code\n",
    "\n",
    "# Instantiate model class and assign to object\n",
    "model_dropout= FeedforwardNeuralNetModelWithDropout(input_dim, embedding_dim, hidden_dim, output_dim)\n",
    "\n",
    "# Optimizer\n",
    "optimizer = torch.optim.RMSprop(model_dropout.parameters(), lr=1e-3)"
   ]
  },
  {
   "cell_type": "code",
   "execution_count": null,
   "metadata": {},
   "outputs": [],
   "source": [
    "(train_acc, val_acc, train_loss, val_loss) = train_model(model_dropout, optimizer, criterion)\n",
    "plot_losses(train_loss, val_loss)"
   ]
  },
  {
   "cell_type": "code",
   "execution_count": null,
   "metadata": {},
   "outputs": [],
   "source": []
  },
  {
   "cell_type": "markdown",
   "metadata": {},
   "source": [
    "## Using LSTM to classify textual data\n",
    "\n",
    "A fully connected neural network is not an ideal way of processing textual data. Recurrent Neural Networks are more useful for this task since they are more adequate to work on sequential data such as text.\n",
    "\n",
    "A particular type of RNN is the Long Short-Term Memory, or <a href=\"https://pytorch.org/docs/stable/generated/torch.nn.LSTM.html\">LSTM</a>.\n",
    "\n",
    "> **Task 3** : complete the following code to implement a single layer, unidirectional LSTM with a fully connected layer taking the final hidden states of the LSTM as input. Note that you have to set the parameter *batch_first*=True for the LSTM layer as our dataset comes in this format.\n"
   ]
  },
  {
   "cell_type": "code",
   "execution_count": null,
   "metadata": {},
   "outputs": [],
   "source": [
    "class LSTMModel(nn.Module):\n",
    "    def __init__(self, vocab_size, embed_dim, hidden_dim, num_class):\n",
    "        \"\"\"\n",
    "        vocab_size: (int) size of the vocabulary - required by embeddings\n",
    "        embed_dim: (int) size of embeddings\n",
    "        hidden_dim: (int) number of hidden units\n",
    "        num_class: (int) number of classes\n",
    "        \"\"\"\n",
    "        super().__init__()\n",
    "        self.hidden_dim=hidden_dim\n",
    "        self.embedding = nn.Embedding(vocab_size, embed_dim)\n",
    "        #enter here your code\n",
    "        self.lstm = nn.LSTM(embed_dim, hidden_dim, num_layers=1, bidirectional=False, batch_first=True)\n",
    "        self.fc = nn.Linear(hidden_dim, num_class)\n",
    "        #SOLUTION task 5\n",
    "        #self.dropout = nn.Dropout(0.8)\n",
    "        \n",
    "\n",
    "    def forward(self, text):\n",
    "        r\"\"\"\n",
    "        Arguments:\n",
    "            text: 1-D tensor representing a bag of text tensors\n",
    "        \"\"\"\n",
    "        #ENTER HERE YOUR CODE\n",
    "        text=self.embedding(text)\n",
    "        output, (hidden, cell) = self.lstm(text)\n",
    "        #for the sizes:\n",
    "        #output:[batch_size, sent_len, hidden_dim*num directions]\n",
    "        #hidden: [num_layers * num_directions, batch_size, hidden_dim]\n",
    "        x = hidden.view(-1, self.hidden_dim)\n",
    "        #SOLUTION task 5\n",
    "        #x=self.dropout(x)\n",
    "        x=self.fc(x)\n",
    "        out = torch.sigmoid(x)\n",
    "        return out"
   ]
  },
  {
   "cell_type": "markdown",
   "metadata": {},
   "source": [
    "> **Task 4**: run the LSTM model on the IMDB dataset and verify whether it is overfitting or not. "
   ]
  },
  {
   "cell_type": "code",
   "execution_count": null,
   "metadata": {},
   "outputs": [],
   "source": [
    "#insert your code here\n",
    "#Solution Task 4\n",
    "lstm = LSTMModel(input_dim, embedding_dim, hidden_dim, output_dim)\n",
    "\n",
    "# Optimizer\n",
    "optimizer = torch.optim.RMSprop(lstm.parameters(), lr=1e-3) #not necessary if the order is respected\n",
    "\n",
    "(train_acc, val_acc, train_loss, val_loss) = train_model(lstm, optimizer, criterion)\n",
    "plot_losses(train_loss, val_loss)"
   ]
  },
  {
   "cell_type": "markdown",
   "metadata": {},
   "source": [
    "> **Task 5**: implement a dropout layer between the LSTM and the fully connected layer "
   ]
  },
  {
   "cell_type": "code",
   "execution_count": null,
   "metadata": {},
   "outputs": [],
   "source": []
  }
 ],
 "metadata": {
  "kernelspec": {
   "display_name": "Python 3",
   "language": "python",
   "name": "python3"
  },
  "language_info": {
   "codemirror_mode": {
    "name": "ipython",
    "version": 3
   },
   "file_extension": ".py",
   "mimetype": "text/x-python",
   "name": "python",
   "nbconvert_exporter": "python",
   "pygments_lexer": "ipython3",
   "version": "3.8.6"
  }
 },
 "nbformat": 4,
 "nbformat_minor": 4
}
